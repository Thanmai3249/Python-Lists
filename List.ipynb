{
 "cells": [
  {
   "cell_type": "markdown",
   "id": "5efe36fa",
   "metadata": {},
   "source": [
    "# List\n",
    "Lists are used to store multiple items in a single variable.\n",
    "\n",
    "Lists are one of 4 built-in data types in Python used to store collections of data, the other 3 are Tuple, Set, and Dictionary, all with different qualities and usage.\n",
    "\n",
    "Lists are created using square brackets:"
   ]
  },
  {
   "cell_type": "code",
   "execution_count": 1,
   "id": "af7f78f8",
   "metadata": {},
   "outputs": [
    {
     "data": {
      "text/plain": [
       "[1, 2, 3, 4, 5, 'tanu', 64.5]"
      ]
     },
     "execution_count": 1,
     "metadata": {},
     "output_type": "execute_result"
    }
   ],
   "source": [
    "l = [1,2,3,4,5 ,'tanu', 64.5 ]\n",
    "l"
   ]
  },
  {
   "cell_type": "markdown",
   "id": "4f0e84fd",
   "metadata": {},
   "source": [
    "- List Items: \n",
    "List items are ordered, changeable, and allow duplicate values. List items are indexed, the first item has index [0], the second item has index [1] etc.\n",
    "\n",
    "- Ordered: \n",
    "When we say that lists are ordered, it means that the items have a defined order, and that order will not change. If you add new items to a list, the new items will be placed at the end of the list."
   ]
  },
  {
   "cell_type": "code",
   "execution_count": 3,
   "id": "8a6ae08f",
   "metadata": {},
   "outputs": [
    {
     "name": "stdout",
     "output_type": "stream",
     "text": [
      "1\n",
      "2\n",
      "3\n",
      "4\n",
      "5\n",
      "tanu\n",
      "64.5\n"
     ]
    }
   ],
   "source": [
    "'''\n",
    "List Indexing\n",
    "'''\n",
    "print(l[0])\n",
    "print(l[1])\n",
    "print(l[2])\n",
    "print(l[3])\n",
    "print(l[4])\n",
    "print(l[5])\n",
    "print(l[6])"
   ]
  },
  {
   "cell_type": "code",
   "execution_count": 5,
   "id": "c718a341",
   "metadata": {},
   "outputs": [
    {
     "data": {
      "text/plain": [
       "[1, 2, 3, 4, 5]"
      ]
     },
     "execution_count": 5,
     "metadata": {},
     "output_type": "execute_result"
    }
   ],
   "source": [
    "l[0:5] # Printing 0 to 5 indexes data from a list"
   ]
  },
  {
   "cell_type": "code",
   "execution_count": 2,
   "id": "b2ce6b89",
   "metadata": {},
   "outputs": [
    {
     "data": {
      "text/plain": [
       "[64.5, 'tanu', 5, 4, 3, 2, 1]"
      ]
     },
     "execution_count": 2,
     "metadata": {},
     "output_type": "execute_result"
    }
   ],
   "source": [
    "\"\"\"\n",
    "Reversing a list using indexing\n",
    "\"\"\"\n",
    "l = [1,2,3,4,5 ,'tanu', 64.5 ]\n",
    "l[::-1]"
   ]
  },
  {
   "cell_type": "code",
   "execution_count": 3,
   "id": "4df85965",
   "metadata": {},
   "outputs": [
    {
     "data": {
      "text/plain": [
       "[]"
      ]
     },
     "execution_count": 3,
     "metadata": {},
     "output_type": "execute_result"
    }
   ],
   "source": [
    "'''\n",
    "printing empty list using indexing\n",
    "'''\n",
    "l = [1,2,3,4,5 ,'tanu', 64.5 ]\n",
    "l[0:8:-1]"
   ]
  },
  {
   "cell_type": "markdown",
   "id": "a089ab9b",
   "metadata": {},
   "source": [
    "- Changeable: \n",
    "The list is changeable, meaning that we can change, add, and remove items in a list after it has been created.\n",
    "\n",
    "- Allow Duplicates: \n",
    "Since lists are indexed, lists can have items with the same value:"
   ]
  },
  {
   "cell_type": "code",
   "execution_count": 1,
   "id": "b6c4961c",
   "metadata": {},
   "outputs": [
    {
     "data": {
      "text/plain": [
       "['Apple', 'Banana', 'Cherry', 'Apple']"
      ]
     },
     "execution_count": 1,
     "metadata": {},
     "output_type": "execute_result"
    }
   ],
   "source": [
    "List = ['Apple', 'Banana', 'Cherry', 'Apple']\n",
    "List"
   ]
  },
  {
   "cell_type": "markdown",
   "id": "575fd307",
   "metadata": {},
   "source": [
    "- List Length: \n",
    "To determine how many items a list has, use the len() function:"
   ]
  },
  {
   "cell_type": "code",
   "execution_count": 4,
   "id": "784f01f0",
   "metadata": {},
   "outputs": [
    {
     "data": {
      "text/plain": [
       "7"
      ]
     },
     "execution_count": 4,
     "metadata": {},
     "output_type": "execute_result"
    }
   ],
   "source": [
    "'''\n",
    "Finding the length of a list\n",
    "'''\n",
    "l = [1,2,3,4,5 ,'tanu', 64.5 ]\n",
    "len(l)"
   ]
  },
  {
   "cell_type": "markdown",
   "id": "e37a1adb",
   "metadata": {},
   "source": [
    "- type(): \n",
    "From Python's perspective, lists are defined as objects with the data type 'list':"
   ]
  },
  {
   "cell_type": "code",
   "execution_count": 3,
   "id": "78b91d36",
   "metadata": {},
   "outputs": [
    {
     "name": "stdout",
     "output_type": "stream",
     "text": [
      "<class 'list'>\n"
     ]
    }
   ],
   "source": [
    "l = [1,2,3,4,5 ,'tanu', 64.5 ]\n",
    "print(type(l))"
   ]
  },
  {
   "cell_type": "code",
   "execution_count": 4,
   "id": "7328b580",
   "metadata": {},
   "outputs": [
    {
     "data": {
      "text/plain": [
       "[1, 2, 3, 4, 5, 'tanu', 64.5, 1, 2, 3, 4, 5, 'tanu', 64.5]"
      ]
     },
     "execution_count": 4,
     "metadata": {},
     "output_type": "execute_result"
    }
   ],
   "source": [
    "'''\n",
    "Multiplying a list\n",
    "'''\n",
    "l*2"
   ]
  },
  {
   "cell_type": "code",
   "execution_count": 5,
   "id": "51f5b902",
   "metadata": {},
   "outputs": [
    {
     "data": {
      "text/plain": [
       "True"
      ]
     },
     "execution_count": 5,
     "metadata": {},
     "output_type": "execute_result"
    }
   ],
   "source": [
    "2 in l  #in keyword"
   ]
  },
  {
   "cell_type": "code",
   "execution_count": 6,
   "id": "daca61a2",
   "metadata": {},
   "outputs": [
    {
     "data": {
      "text/plain": [
       "1"
      ]
     },
     "execution_count": 6,
     "metadata": {},
     "output_type": "execute_result"
    }
   ],
   "source": [
    "'''\n",
    "Finding the minimum value of a list\n",
    "'''\n",
    "l1 = [1,2,3,4]\n",
    "min(l1)"
   ]
  },
  {
   "cell_type": "code",
   "execution_count": 7,
   "id": "ec58c742",
   "metadata": {},
   "outputs": [
    {
     "data": {
      "text/plain": [
       "'cos'"
      ]
     },
     "execution_count": 7,
     "metadata": {},
     "output_type": "execute_result"
    }
   ],
   "source": [
    "l2 = ['tan', 'cos','cosec', 'sec']\n",
    "min(l2)"
   ]
  },
  {
   "cell_type": "markdown",
   "id": "95e799f0",
   "metadata": {},
   "source": [
    "# List Methods\n",
    "Here are some other common list methods.\n",
    "\n",
    "- list.append(elem) -- adds a single element to the end of the list. Common error: does not return the new list, just modifies the original.\n",
    "- list.insert(index, elem) -- inserts the element at the given index, shifting elements to the right.\n",
    "- list.extend(list2) adds the elements in list2 to the end of the list. Using + or += on a list is similar to using extend().\n",
    "- list.index(elem) -- searches for the given element from the start of the list and returns its index. Throws a ValueError if the element does not appear (use \"in\" to check without a ValueError).\n",
    "- list.remove(elem) -- searches for the first instance of the given element and removes it (throws ValueError if not present)\n",
    "- list.sort() -- sorts the list in place (does not return it). (The sorted() function shown later is preferred.)\n",
    "- list.reverse() -- reverses the list in place (does not return it)\n",
    "- list.pop(index) -- removes and returns the element at the given index. Returns the rightmost element if index is omitted (roughly the opposite of append())."
   ]
  },
  {
   "cell_type": "code",
   "execution_count": 8,
   "id": "2df8e320",
   "metadata": {},
   "outputs": [
    {
     "data": {
      "text/plain": [
       "['tan', 'cos', 'cosec', 'sec', 'case']"
      ]
     },
     "execution_count": 8,
     "metadata": {},
     "output_type": "execute_result"
    }
   ],
   "source": [
    "'''\n",
    "Appending new values to list using append()\n",
    "'''\n",
    "l2 = ['tan', 'cos','cosec', 'sec']\n",
    "l2.append('case')\n",
    "l2"
   ]
  },
  {
   "cell_type": "code",
   "execution_count": 9,
   "id": "bce5a95c",
   "metadata": {},
   "outputs": [
    {
     "data": {
      "text/plain": [
       "[1, 2, 3, 4, 5, 'tanu', 64.5, 'kumar']"
      ]
     },
     "execution_count": 9,
     "metadata": {},
     "output_type": "execute_result"
    }
   ],
   "source": [
    "l.append('kumar')\n",
    "l"
   ]
  },
  {
   "cell_type": "code",
   "execution_count": 10,
   "id": "59ab9900",
   "metadata": {},
   "outputs": [
    {
     "data": {
      "text/plain": [
       "[2, 3, 4, 5, 'tanu', 64.5, 'kumar']"
      ]
     },
     "execution_count": 10,
     "metadata": {},
     "output_type": "execute_result"
    }
   ],
   "source": [
    "'''\n",
    "Removing values from a list using pop()\n",
    "'''\n",
    "l.pop(0)\n",
    "l"
   ]
  },
  {
   "cell_type": "code",
   "execution_count": 11,
   "id": "6e64ee92",
   "metadata": {},
   "outputs": [
    {
     "data": {
      "text/plain": [
       "[2, 3, 4, 5, 'tanu', 64.5, 'kumar']"
      ]
     },
     "execution_count": 11,
     "metadata": {},
     "output_type": "execute_result"
    }
   ],
   "source": [
    "l"
   ]
  },
  {
   "cell_type": "code",
   "execution_count": 12,
   "id": "53c5c766",
   "metadata": {},
   "outputs": [],
   "source": [
    "'''\n",
    "Reversing a list using reverse()\n",
    "'''\n",
    "l3 = [1, 2, 3, 4, 5, 'tanu', 64.5, 'kumar']\n",
    "l3.reverse()"
   ]
  },
  {
   "cell_type": "code",
   "execution_count": 13,
   "id": "1d03a224",
   "metadata": {},
   "outputs": [
    {
     "data": {
      "text/plain": [
       "['kumar', 64.5, 'tanu', 5, 4, 3, 2, 1]"
      ]
     },
     "execution_count": 13,
     "metadata": {},
     "output_type": "execute_result"
    }
   ],
   "source": [
    "l3"
   ]
  },
  {
   "cell_type": "code",
   "execution_count": 14,
   "id": "ee15c00c",
   "metadata": {},
   "outputs": [
    {
     "data": {
      "text/plain": [
       "['case', 'cos', 'cosec', 'sec', 'tan']"
      ]
     },
     "execution_count": 14,
     "metadata": {},
     "output_type": "execute_result"
    }
   ],
   "source": [
    "'''\n",
    "Sorting a list using sort()\n",
    "'''\n",
    "l2.sort()\n",
    "l2"
   ]
  },
  {
   "cell_type": "code",
   "execution_count": 15,
   "id": "dad4bb71",
   "metadata": {},
   "outputs": [
    {
     "data": {
      "text/plain": [
       "[]"
      ]
     },
     "execution_count": 15,
     "metadata": {},
     "output_type": "execute_result"
    }
   ],
   "source": [
    "'''\n",
    "Deleting values from the list using clear()\n",
    "'''\n",
    "l2.clear()\n",
    "l2"
   ]
  },
  {
   "cell_type": "code",
   "execution_count": 16,
   "id": "0a255b2c",
   "metadata": {},
   "outputs": [
    {
     "data": {
      "text/plain": [
       "[['tan', 'cos', 'cosec', 'sec']]"
      ]
     },
     "execution_count": 16,
     "metadata": {},
     "output_type": "execute_result"
    }
   ],
   "source": [
    "l2.append(['tan', 'cos', 'cosec', 'sec'])\n",
    "l2"
   ]
  },
  {
   "cell_type": "code",
   "execution_count": 17,
   "id": "15770798",
   "metadata": {},
   "outputs": [
    {
     "data": {
      "text/plain": [
       "[['tan', 'cos', 'cosec', 'sec'], '3']"
      ]
     },
     "execution_count": 17,
     "metadata": {},
     "output_type": "execute_result"
    }
   ],
   "source": [
    "'''\n",
    "inserting values to a list using extend()\n",
    "'''\n",
    "l2.extend('3')\n",
    "l2"
   ]
  },
  {
   "cell_type": "code",
   "execution_count": 18,
   "id": "d84f3371",
   "metadata": {},
   "outputs": [
    {
     "data": {
      "text/plain": [
       "[['tan', 'cos', 'cosec', 'sec']]"
      ]
     },
     "execution_count": 18,
     "metadata": {},
     "output_type": "execute_result"
    }
   ],
   "source": [
    "l2.pop()\n",
    "l2"
   ]
  },
  {
   "cell_type": "code",
   "execution_count": 19,
   "id": "d0a3a1c4",
   "metadata": {},
   "outputs": [
    {
     "data": {
      "text/plain": [
       "[['tan', 'cos', 'cosec', 'sec']]"
      ]
     },
     "execution_count": 19,
     "metadata": {},
     "output_type": "execute_result"
    }
   ],
   "source": [
    "l2[::-1]"
   ]
  },
  {
   "cell_type": "code",
   "execution_count": 20,
   "id": "88c8df02",
   "metadata": {},
   "outputs": [
    {
     "data": {
      "text/plain": [
       "[['tan', 'cos', 'cosec', 'sec']]"
      ]
     },
     "execution_count": 20,
     "metadata": {},
     "output_type": "execute_result"
    }
   ],
   "source": [
    "l2.reverse()\n",
    "l2"
   ]
  },
  {
   "cell_type": "code",
   "execution_count": 21,
   "id": "82ecf083",
   "metadata": {},
   "outputs": [
    {
     "data": {
      "text/plain": [
       "[['tan', 'cos', 'cosec', 'sec'], [1, 2, 3, 4, 5], 't', 'a', 'n']"
      ]
     },
     "execution_count": 21,
     "metadata": {},
     "output_type": "execute_result"
    }
   ],
   "source": [
    "l2.append([1,2,3,4,5])\n",
    "l2\n",
    "l2.extend('tan')\n",
    "l2"
   ]
  },
  {
   "cell_type": "code",
   "execution_count": 22,
   "id": "724c359a",
   "metadata": {},
   "outputs": [
    {
     "data": {
      "text/plain": [
       "2"
      ]
     },
     "execution_count": 22,
     "metadata": {},
     "output_type": "execute_result"
    }
   ],
   "source": [
    "l4 = [1,2,4,3,3,5,7,10]\n",
    "#l4.sort()\n",
    "l4\n",
    "l4.count(3)"
   ]
  },
  {
   "cell_type": "code",
   "execution_count": 23,
   "id": "b705c361",
   "metadata": {},
   "outputs": [],
   "source": [
    "l4.sort(reverse = True)"
   ]
  },
  {
   "cell_type": "code",
   "execution_count": 24,
   "id": "4b9d7d5f",
   "metadata": {},
   "outputs": [
    {
     "data": {
      "text/plain": [
       "[10, 7, 5, 4, 3, 3, 2, 1]"
      ]
     },
     "execution_count": 24,
     "metadata": {},
     "output_type": "execute_result"
    }
   ],
   "source": [
    "l4"
   ]
  },
  {
   "cell_type": "code",
   "execution_count": 25,
   "id": "bcc81921",
   "metadata": {},
   "outputs": [
    {
     "data": {
      "text/plain": [
       "8"
      ]
     },
     "execution_count": 25,
     "metadata": {},
     "output_type": "execute_result"
    }
   ],
   "source": [
    "l1 = [1,2,3]\n",
    "l2 = [4,5,6]\n",
    "l3 = [7,8,9]\n",
    "l4 = [l1, l2, l3]\n",
    "l4[2][1]"
   ]
  },
  {
   "cell_type": "code",
   "execution_count": 26,
   "id": "3c093404",
   "metadata": {},
   "outputs": [],
   "source": [
    "l4.extend([4,7,8])"
   ]
  },
  {
   "cell_type": "code",
   "execution_count": 27,
   "id": "28940866",
   "metadata": {},
   "outputs": [
    {
     "data": {
      "text/plain": [
       "[[1, 2, 3], [4, 5, 6], [7, 8, 9], 4, 7, 8]"
      ]
     },
     "execution_count": 27,
     "metadata": {},
     "output_type": "execute_result"
    }
   ],
   "source": [
    "l4"
   ]
  },
  {
   "cell_type": "code",
   "execution_count": 28,
   "id": "2388d058",
   "metadata": {},
   "outputs": [],
   "source": [
    "l4.extend('tan')"
   ]
  },
  {
   "cell_type": "code",
   "execution_count": 29,
   "id": "52732498",
   "metadata": {},
   "outputs": [
    {
     "data": {
      "text/plain": [
       "[[1, 2, 3], [4, 5, 6], [7, 8, 9], 4, 7, 8, 't', 'a', 'n']"
      ]
     },
     "execution_count": 29,
     "metadata": {},
     "output_type": "execute_result"
    }
   ],
   "source": [
    "l4"
   ]
  },
  {
   "cell_type": "code",
   "execution_count": 30,
   "id": "7c65b92b",
   "metadata": {},
   "outputs": [
    {
     "data": {
      "text/plain": [
       "7"
      ]
     },
     "execution_count": 30,
     "metadata": {},
     "output_type": "execute_result"
    }
   ],
   "source": [
    "l4.index('a')"
   ]
  },
  {
   "cell_type": "code",
   "execution_count": 31,
   "id": "4a7db4d5",
   "metadata": {},
   "outputs": [],
   "source": [
    "l4.insert(4, 'pheobie')"
   ]
  },
  {
   "cell_type": "code",
   "execution_count": 32,
   "id": "b232ef64",
   "metadata": {},
   "outputs": [
    {
     "data": {
      "text/plain": [
       "[[1, 2, 3], [4, 5, 6], [7, 8, 9], 4, 'pheobie', 7, 8, 't', 'a', 'n']"
      ]
     },
     "execution_count": 32,
     "metadata": {},
     "output_type": "execute_result"
    }
   ],
   "source": [
    "l4"
   ]
  },
  {
   "cell_type": "code",
   "execution_count": 33,
   "id": "30b21c65",
   "metadata": {},
   "outputs": [],
   "source": [
    "l4.insert(20, 'monn')"
   ]
  },
  {
   "cell_type": "code",
   "execution_count": 34,
   "id": "6d5ba4cd",
   "metadata": {},
   "outputs": [
    {
     "data": {
      "text/plain": [
       "[[1, 2, 3], [4, 5, 6], [7, 8, 9], 4, 'pheobie', 7, 8, 't', 'a', 'n', 'monn']"
      ]
     },
     "execution_count": 34,
     "metadata": {},
     "output_type": "execute_result"
    }
   ],
   "source": [
    "l4"
   ]
  },
  {
   "cell_type": "code",
   "execution_count": 35,
   "id": "e1b32c4d",
   "metadata": {},
   "outputs": [
    {
     "data": {
      "text/plain": [
       "'monn'"
      ]
     },
     "execution_count": 35,
     "metadata": {},
     "output_type": "execute_result"
    }
   ],
   "source": [
    "l4[10]"
   ]
  },
  {
   "cell_type": "code",
   "execution_count": 36,
   "id": "3aab4818",
   "metadata": {},
   "outputs": [
    {
     "data": {
      "text/plain": [
       "[[1, 2, 3], [4, 5, 6], [7, 8, 9], 4, 'pheobie', 7, 8, 't', 'a', 'n', 'monn']"
      ]
     },
     "execution_count": 36,
     "metadata": {},
     "output_type": "execute_result"
    }
   ],
   "source": [
    "l4"
   ]
  },
  {
   "cell_type": "code",
   "execution_count": 37,
   "id": "b277f9e2",
   "metadata": {},
   "outputs": [],
   "source": [
    "l4.remove('monn')"
   ]
  },
  {
   "cell_type": "code",
   "execution_count": 38,
   "id": "f61176b7",
   "metadata": {},
   "outputs": [
    {
     "data": {
      "text/plain": [
       "[[1, 2, 3], [4, 5, 6], [7, 8, 9], 4, 'pheobie', 7, 8, 't', 'a', 'n']"
      ]
     },
     "execution_count": 38,
     "metadata": {},
     "output_type": "execute_result"
    }
   ],
   "source": [
    "l4"
   ]
  },
  {
   "cell_type": "code",
   "execution_count": 39,
   "id": "6e703446",
   "metadata": {},
   "outputs": [],
   "source": [
    "#pop is based on index, but remove is based on element\n",
    "\n",
    "l4[2] = 'joey'"
   ]
  },
  {
   "cell_type": "code",
   "execution_count": 40,
   "id": "c0b4e913",
   "metadata": {},
   "outputs": [
    {
     "data": {
      "text/plain": [
       "[[1, 2, 3], [4, 5, 6], 'joey', 4, 'pheobie', 7, 8, 't', 'a', 'n']"
      ]
     },
     "execution_count": 40,
     "metadata": {},
     "output_type": "execute_result"
    }
   ],
   "source": [
    "l4"
   ]
  },
  {
   "cell_type": "code",
   "execution_count": 42,
   "id": "47da789e",
   "metadata": {},
   "outputs": [
    {
     "data": {
      "text/plain": [
       "[[1, 2, 3], [4, 5, 6], 'joey', 4, 'pheobie', 'c', 8, 't', 'a', 'n']"
      ]
     },
     "execution_count": 42,
     "metadata": {},
     "output_type": "execute_result"
    }
   ],
   "source": [
    "l4[5] = 'c'\n",
    "l4"
   ]
  }
 ],
 "metadata": {
  "kernelspec": {
   "display_name": "Python 3 (ipykernel)",
   "language": "python",
   "name": "python3"
  },
  "language_info": {
   "codemirror_mode": {
    "name": "ipython",
    "version": 3
   },
   "file_extension": ".py",
   "mimetype": "text/x-python",
   "name": "python",
   "nbconvert_exporter": "python",
   "pygments_lexer": "ipython3",
   "version": "3.9.7"
  }
 },
 "nbformat": 4,
 "nbformat_minor": 5
}
